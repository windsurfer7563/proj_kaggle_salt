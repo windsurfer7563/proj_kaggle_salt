{
 "cells": [
  {
   "cell_type": "code",
   "execution_count": 1,
   "metadata": {},
   "outputs": [],
   "source": [
    "from skimage import io\n",
    "from skimage import img_as_float"
   ]
  },
  {
   "cell_type": "code",
   "execution_count": 2,
   "metadata": {},
   "outputs": [],
   "source": [
    "%load_ext autoreload\n",
    "%autoreload 2"
   ]
  },
  {
   "cell_type": "code",
   "execution_count": 3,
   "metadata": {},
   "outputs": [],
   "source": [
    "import os,sys,inspect\n",
    "currentdir = os.path.dirname(os.path.abspath(inspect.getfile(inspect.currentframe())))\n",
    "parentdir = os.path.dirname(currentdir)\n",
    "sys.path.insert(0,parentdir) "
   ]
  },
  {
   "cell_type": "code",
   "execution_count": 227,
   "metadata": {},
   "outputs": [],
   "source": [
    "import torch\n",
    "import numpy as np\n",
    "import cv2\n",
    "import matplotlib.pyplot as plt\n",
    "from torch.utils.data import DataLoader\n",
    "from models.prepare_train_val import get_split\n",
    "from models.transforms import (DualCompose,\n",
    "                        ImageOnly,\n",
    "                        Normalize,\n",
    "                        HorizontalFlip,\n",
    "                        VerticalFlip,\n",
    "                        Rotate,\n",
    "                        RandomBrightness,\n",
    "                        RandomContrast,\n",
    "                        AddMargin)\n",
    "\n",
    "from skimage.io import imread\n",
    "\n",
    "from models.dataset import SaltDataset\n",
    "\n",
    "from albumentations import (HorizontalFlip, VerticalFlip, Normalize,\n",
    "    ShiftScaleRotate, Blur, OpticalDistortion,  GridDistortion, HueSaturationValue, IAAAdditiveGaussianNoise, GaussNoise, MotionBlur,\n",
    "    MedianBlur, IAAPiecewiseAffine, IAASharpen, IAAEmboss, RandomContrast, RandomBrightness,IAAPerspective, ElasticTransform,\n",
    "    InvertImg, Flip, OneOf, Compose,CLAHE, ImageOnlyTransform, RGBShift,\n",
    ")\n",
    "\n",
    "from albumentations.augmentations import functional as F\n",
    "\n",
    "def mask_overlay(image, mask, color=(0, 1, 0)):\n",
    "    \"\"\"\n",
    "    Helper function to visualize mask on the top of the image\n",
    "    \"\"\"\n",
    "    mask = np.dstack((mask, mask, mask)) * np.array(color)\n",
    "    weighted_sum = cv2.addWeighted(mask, 0.5, image, 0.5, 0.)\n",
    "    img = image.copy()\n",
    "    ind = mask[:, :, 1] > 0\n",
    "    img[ind] = weighted_sum[ind]    \n",
    "    return img\n",
    "\n",
    "def imshow(img, mask, title=None):\n",
    "    \"\"\"Imshow for Tensor.\"\"\"\n",
    "    img = img.numpy().transpose((1, 2, 0))\n",
    "    mean = np.array([0.485, 0.456, 0.406])\n",
    "    std = np.array([0.229, 0.224, 0.225])\n",
    "    img = std * img + mean\n",
    "    img = np.clip(img, 0, 1)\n",
    "    mask = mask.numpy().transpose((1, 2, 0))\n",
    "    mask = np.clip(mask, 0, 1)\n",
    "    fig = plt.figure(figsize = (12,6))\n",
    "    fig.add_subplot(1,2,1)\n",
    "    plt.imshow(mask_overlay(img, mask))\n",
    "    fig.add_subplot(1,2,2)\n",
    "    plt.imshow(img)\n",
    "    if title is not None:\n",
    "        plt.title(title)\n",
    "    plt.pause(0.001) \n"
   ]
  },
  {
   "cell_type": "code",
   "execution_count": 5,
   "metadata": {},
   "outputs": [],
   "source": [
    "import os\n",
    "os.chdir('../')"
   ]
  },
  {
   "cell_type": "code",
   "execution_count": 6,
   "metadata": {},
   "outputs": [],
   "source": [
    "train_ids, val_ids = get_split(0)"
   ]
  },
  {
   "cell_type": "code",
   "execution_count": 7,
   "metadata": {},
   "outputs": [],
   "source": [
    "def train_transform(p=1):\n",
    "        return Compose([\n",
    "            #PadIfNeeded(min_height=args.train_crop_height, min_width=args.train_crop_width, p=1),\n",
    "            HorizontalFlip(p=0.5),\n",
    "            OneOf([\n",
    "                IAAAdditiveGaussianNoise(),\n",
    "                GaussNoise(),\n",
    "            ], p=0.2),\n",
    "            OneOf([\n",
    "                MotionBlur(p=0.2),\n",
    "                MedianBlur(blur_limit=3, p=0.1),\n",
    "                Blur(blur_limit=3, p=0.1),\n",
    "            ], p=0.2),\n",
    "            ShiftScaleRotate(shift_limit=0.0625, scale_limit=0.2, rotate_limit=0, p=0.2),\n",
    "            OneOf([\n",
    "                OpticalDistortion(p=0.3),\n",
    "                GridDistortion(p=0.1),\n",
    "                IAAPiecewiseAffine(p=0.3),\n",
    "            ], p=0.2),\n",
    "            OneOf([\n",
    "                CLAHE(clip_limit=2),\n",
    "                IAASharpen(),\n",
    "                IAAEmboss(),\n",
    "                RandomContrast(),\n",
    "                RandomBrightness(),\n",
    "            ], p=0.3),\n",
    "            Normalize(p=1)\n",
    "        ], p=p)\n"
   ]
  },
  {
   "cell_type": "code",
   "execution_count": 7,
   "metadata": {},
   "outputs": [
    {
     "ename": "TypeError",
     "evalue": "__init__() missing 1 required positional argument: 'config'",
     "output_type": "error",
     "traceback": [
      "\u001b[1;31m---------------------------------------------------------------------------\u001b[0m",
      "\u001b[1;31mTypeError\u001b[0m                                 Traceback (most recent call last)",
      "\u001b[1;32m<ipython-input-7-c755d0c36403>\u001b[0m in \u001b[0;36m<module>\u001b[1;34m()\u001b[0m\n\u001b[0;32m      1\u001b[0m train_loader = DataLoader(\n\u001b[1;32m----> 2\u001b[1;33m        \u001b[0mdataset\u001b[0m\u001b[1;33m=\u001b[0m\u001b[0mSaltDataset\u001b[0m\u001b[1;33m(\u001b[0m\u001b[0mtrain_ids\u001b[0m\u001b[1;33m,\u001b[0m \u001b[0mtransform\u001b[0m\u001b[1;33m=\u001b[0m\u001b[1;32mNone\u001b[0m\u001b[1;33m)\u001b[0m\u001b[1;33m,\u001b[0m\u001b[1;33m\u001b[0m\u001b[0m\n\u001b[0m\u001b[0;32m      3\u001b[0m        \u001b[0mshuffle\u001b[0m\u001b[1;33m=\u001b[0m\u001b[1;32mTrue\u001b[0m\u001b[1;33m,\u001b[0m\u001b[1;33m\u001b[0m\u001b[0m\n\u001b[0;32m      4\u001b[0m        \u001b[0mnum_workers\u001b[0m\u001b[1;33m=\u001b[0m\u001b[1;36m1\u001b[0m\u001b[1;33m,\u001b[0m\u001b[1;33m\u001b[0m\u001b[0m\n\u001b[0;32m      5\u001b[0m        \u001b[0mbatch_size\u001b[0m\u001b[1;33m=\u001b[0m\u001b[1;36m10\u001b[0m\u001b[1;33m,\u001b[0m\u001b[1;33m\u001b[0m\u001b[0m\n",
      "\u001b[1;31mTypeError\u001b[0m: __init__() missing 1 required positional argument: 'config'"
     ]
    }
   ],
   "source": [
    " train_loader = DataLoader(\n",
    "        dataset=SaltDataset(train_ids, transform=None),\n",
    "        shuffle=True,\n",
    "        num_workers=1,\n",
    "        batch_size=10,\n",
    "        pin_memory=False)"
   ]
  },
  {
   "cell_type": "code",
   "execution_count": null,
   "metadata": {},
   "outputs": [],
   "source": [
    "img1, mask1 = next(iter(train_loader))\n",
    "imshow(img1[0], mask1[0])"
   ]
  },
  {
   "cell_type": "code",
   "execution_count": 10,
   "metadata": {},
   "outputs": [
    {
     "data": {
      "text/plain": [
       "torch.Size([1, 128, 128])"
      ]
     },
     "execution_count": 10,
     "metadata": {},
     "output_type": "execute_result"
    }
   ],
   "source": [
    "mask1[0].shape"
   ]
  },
  {
   "cell_type": "code",
   "execution_count": 11,
   "metadata": {},
   "outputs": [
    {
     "data": {
      "text/plain": [
       "4546"
      ]
     },
     "execution_count": 11,
     "metadata": {},
     "output_type": "execute_result"
    }
   ],
   "source": [
    "(mask1[0]==1).sum()"
   ]
  },
  {
   "cell_type": "code",
   "execution_count": 9,
   "metadata": {},
   "outputs": [],
   "source": [
    "id_ = '0b73b427d1.png'\n",
    "img = io.imread('data/train/images/'+ id_)\n",
    "mask = io.imread('data/train/masks/'+ id_)"
   ]
  },
  {
   "cell_type": "code",
   "execution_count": 145,
   "metadata": {},
   "outputs": [
    {
     "data": {
      "text/plain": [
       "<matplotlib.image.AxesImage at 0x1ed79bad8d0>"
      ]
     },
     "execution_count": 145,
     "metadata": {},
     "output_type": "execute_result"
    },
    {
     "data": {
      "image/png": "[encoded data removed]",
      "text/plain": [
       "<matplotlib.figure.Figure at 0x1ed76bff4e0>"
      ]
     },
     "metadata": {},
     "output_type": "display_data"
    }
   ],
   "source": [
    "fig = plt.figure(figsize = (10,5))\n",
    "fig.add_subplot(1,2,1)\n",
    "plt.imshow(img)\n",
    "fig.add_subplot(1,2,2)\n",
    "plt.imshow((mask >0))"
   ]
  },
  {
   "cell_type": "code",
   "execution_count": 11,
   "metadata": {},
   "outputs": [],
   "source": [
    " data = {\"image\": img, \"mask\": mask}"
   ]
  },
  {
   "cell_type": "code",
   "execution_count": 228,
   "metadata": {},
   "outputs": [],
   "source": [
    "class ShiftBrightness(ImageOnlyTransform):\n",
    "    def __init__(self, shift_limit=(5,20), p=0.5):\n",
    "        super(ShiftBrightness, self).__init__(p)\n",
    "        self.limit = shift_limit\n",
    "        \n",
    "    def apply(self, image, shift=0,  **params):\n",
    "        return F.shift_rgb(image, shift, shift, shift)\n",
    "\n",
    "    def get_params(self):\n",
    "        return {'shift': random.uniform(self.limit[0], self.limit[1])}\n",
    "               \n",
    "    \n"
   ]
  },
  {
   "cell_type": "code",
   "execution_count": 246,
   "metadata": {},
   "outputs": [
    {
     "data": {
      "text/plain": [
       "<matplotlib.image.AxesImage at 0x1ed02e515f8>"
      ]
     },
     "execution_count": 246,
     "metadata": {},
     "output_type": "execute_result"
    },
    {
     "data": {
      "image/png": "[encoded data removed]",
      "text/plain": [
       "<matplotlib.figure.Figure at 0x1ed02d78668>"
      ]
     },
     "metadata": {},
     "output_type": "display_data"
    }
   ],
   "source": [
    "\n",
    "#transform = ShiftScaleRotate(shift_limit=0, scale_limit=0.2, rotate_limit=10, p=1)\n",
    "transform =ShiftBrightness((20,50),1)\n",
    "    \n",
    "augmented = transform(image = img, mask = mask)\n",
    "img1, mask1 = augmented[\"image\"], augmented[\"mask\"]\n",
    "fig = plt.figure(figsize = (10,5))\n",
    "fig.add_subplot(1,2,1)\n",
    "plt.imshow(img1)\n",
    "fig.add_subplot(1,2,2)\n",
    "plt.imshow((mask1 >0))"
   ]
  },
  {
   "cell_type": "code",
   "execution_count": 184,
   "metadata": {},
   "outputs": [
    {
     "data": {
      "text/plain": [
       "0"
      ]
     },
     "execution_count": 184,
     "metadata": {},
     "output_type": "execute_result"
    }
   ],
   "source": [
    "img.min()"
   ]
  },
  {
   "cell_type": "code",
   "execution_count": 193,
   "metadata": {},
   "outputs": [
    {
     "data": {
      "text/plain": [
       "255"
      ]
     },
     "execution_count": 193,
     "metadata": {},
     "output_type": "execute_result"
    }
   ],
   "source": [
    "img1.max()"
   ]
  },
  {
   "cell_type": "code",
   "execution_count": 25,
   "metadata": {},
   "outputs": [],
   "source": [
    "img2 = io.imread('data/train/images/'+ id_)"
   ]
  },
  {
   "cell_type": "code",
   "execution_count": 27,
   "metadata": {},
   "outputs": [
    {
     "data": {
      "text/plain": [
       "array([[0.19607843, 0.24705882, 0.31764706, ..., 0.39215686, 0.34901961,\n",
       "        0.36470588],\n",
       "       [0.23529412, 0.28627451, 0.32941176, ..., 0.38823529, 0.35686275,\n",
       "        0.37647059],\n",
       "       [0.30588235, 0.34509804, 0.34901961, ..., 0.39215686, 0.37254902,\n",
       "        0.39215686],\n",
       "       ...,\n",
       "       [0.45490196, 0.44313725, 0.45098039, ..., 0.45098039, 0.46666667,\n",
       "        0.4627451 ],\n",
       "       [0.47058824, 0.4627451 , 0.47058824, ..., 0.42745098, 0.45098039,\n",
       "        0.45098039],\n",
       "       [0.49411765, 0.48627451, 0.48627451, ..., 0.4       , 0.43137255,\n",
       "        0.43529412]])"
      ]
     },
     "execution_count": 27,
     "metadata": {},
     "output_type": "execute_result"
    }
   ],
   "source": [
    "img2[:,:,0]/255"
   ]
  },
  {
   "cell_type": "code",
   "execution_count": null,
   "metadata": {},
   "outputs": [],
   "source": [
    "pred_dir = 'data/predictions/AlbuNet/OOF/'\n",
    "train_dir = 'data/train/'\n",
    "def show_image(file_name):\n",
    "    global mask, mask_pred\n",
    "    img = imread(train_dir + \"images/\" + file_name)\n",
    "    mask = imread(train_dir + \"masks/\" + file_name)\n",
    "    mask_pred = img_as_float(imread(pred_dir + file_name))\n",
    "    fig = plt.figure(figsize = (18,6))\n",
    "    fig.add_subplot(1,4,1)\n",
    "    plt.imshow(img)\n",
    "    fig.add_subplot(1,4,2)\n",
    "    plt.imshow(mask)\n",
    "    fig.add_subplot(1,4,3)\n",
    "    plt.imshow(mask_pred)\n",
    "    fig.add_subplot(1,4,4)\n",
    "    plt.imshow((mask_pred>0.2))\n",
    "#show_image('6c793e5879.png')\n",
    "#show_image('6a1fe1a81e.png')\n",
    "show_image('fd1be18f7d.png')"
   ]
  },
  {
   "cell_type": "code",
   "execution_count": null,
   "metadata": {},
   "outputs": [],
   "source": [
    "mask.shape"
   ]
  },
  {
   "cell_type": "code",
   "execution_count": null,
   "metadata": {},
   "outputs": [],
   "source": [
    "(mask_pred>0).sum()"
   ]
  },
  {
   "cell_type": "code",
   "execution_count": null,
   "metadata": {},
   "outputs": [],
   "source": [
    "mask_pred.dtype"
   ]
  },
  {
   "cell_type": "code",
   "execution_count": null,
   "metadata": {},
   "outputs": [],
   "source": [
    "mask.max()"
   ]
  },
  {
   "cell_type": "code",
   "execution_count": null,
   "metadata": {},
   "outputs": [],
   "source": [
    "mask_pred.max()"
   ]
  },
  {
   "cell_type": "code",
   "execution_count": null,
   "metadata": {},
   "outputs": [],
   "source": [
    "pred_dir = '../data/predictions/test/'\n",
    "train_dir = '../data/test/'\n",
    "def show_image(file_name):\n",
    "    global mask, mask_pred\n",
    "    img = imread(train_dir + \"images/\" + file_name)\n",
    "    mask_pred = img_as_float(imread(pred_dir + file_name))\n",
    "    fig = plt.figure(figsize = (18,6))\n",
    "    fig.add_subplot(1,3,1)\n",
    "    plt.imshow(img)\n",
    "    fig.add_subplot(1,3,2)\n",
    "    plt.imshow(mask_pred)\n",
    "    fig.add_subplot(1,3,3)\n",
    "    plt.imshow((mask_pred>0.4))\n",
    "\n",
    "show_image('009d3365bc.png')\n",
    "show_image('00801127b0.png')\n",
    "#show_image('feaae39fc4.png')\n",
    "#show_image('fb56c30236.png')\n",
    "#show_image('f7c8709aad.png')"
   ]
  },
  {
   "cell_type": "code",
   "execution_count": null,
   "metadata": {},
   "outputs": [],
   "source": [
    "mask_pred"
   ]
  },
  {
   "cell_type": "code",
   "execution_count": null,
   "metadata": {},
   "outputs": [],
   "source": []
  },
  {
   "cell_type": "code",
   "execution_count": 38,
   "metadata": {},
   "outputs": [],
   "source": [
    "import torch\n",
    "from torch.optim import SGD\n",
    "from torch.optim.lr_scheduler import ExponentialLR, MultiStepLR, StepLR, CosineAnnealingLR\n",
    "import numpy as np\n",
    "import matplotlib.pyplot as plt\n",
    "import math"
   ]
  },
  {
   "cell_type": "code",
   "execution_count": 26,
   "metadata": {},
   "outputs": [],
   "source": [
    "def plot_rates(fig, lrs, num_epoches, title=''):\n",
    "\n",
    "    epoches = np.arange(0,num_epoches)\n",
    "    lrs     = lrs[0:num_epoches]\n",
    "\n",
    "    #get limits\n",
    "    max_lr  = np.max(lrs)\n",
    "    xmin=0\n",
    "    xmax=num_epoches\n",
    "    dx=2\n",
    "\n",
    "    ymin=0\n",
    "    ymax=max_lr*1.2\n",
    "    dy=(ymax-ymin)/10\n",
    "    dy=10**math.ceil(math.log10(dy))\n",
    "\n",
    "    ax = fig.add_subplot(111)\n",
    "    #ax = fig.gca()\n",
    "    ax.set_axisbelow(True)\n",
    "    ax.minorticks_on()\n",
    "    ax.set_xticks(np.arange(xmin,xmax+0.0001, dx))\n",
    "    ax.set_yticks(np.arange(ymin,ymax+0.0001, dy))\n",
    "    ax.set_xlim(xmin,xmax+0.0001)\n",
    "    ax.set_ylim(ymin,ymax+0.0001)\n",
    "    ax.grid(b=True, which='minor', color='black', alpha=0.1, linestyle='dashed')\n",
    "    ax.grid(b=True, which='major', color='black', alpha=0.4, linestyle='dashed')\n",
    "\n",
    "    ax.set_xlabel('epoches')\n",
    "    ax.set_ylabel('learning rate')\n",
    "    ax.set_title(title)\n",
    "    ax.plot(epoches, lrs)"
   ]
  },
  {
   "cell_type": "code",
   "execution_count": 8,
   "metadata": {},
   "outputs": [],
   "source": [
    "model = torch.nn.Sequential(\n",
    "    torch.nn.Linear(10, 10),\n",
    "    torch.nn.ReLU(),\n",
    "    torch.nn.Linear(10,1),\n",
    ")"
   ]
  },
  {
   "cell_type": "code",
   "execution_count": 62,
   "metadata": {},
   "outputs": [],
   "source": [
    "optimizer = SGD(params = model.parameters(), lr = 0.001)\n",
    "for param_group in optimizer.param_groups:\n",
    "    param_group['initial_lr'] =0.001\n",
    "\n"
   ]
  },
  {
   "cell_type": "code",
   "execution_count": 70,
   "metadata": {},
   "outputs": [
    {
     "data": {
      "image/png": "[encoded data removed]",
      "text/plain": [
       "<matplotlib.figure.Figure at 0x26750162908>"
      ]
     },
     "metadata": {},
     "output_type": "display_data"
    }
   ],
   "source": [
    "lr_scheduler = CosineAnnealingLR(optimizer, 40, eta_min = 0.0001,last_epoch=0)\n",
    "num_epoches = 120\n",
    "lrs = np.zeros((num_epoches),np.float32)\n",
    "for epoch in range(0,num_epoches):\n",
    "    if epoch % 40 == 0:\n",
    "        lr_scheduler.last_epoch = 0       \n",
    "    lr_scheduler.step()\n",
    "    lr = lr_scheduler.get_lr()[0]\n",
    "    lrs[epoch] = lr\n",
    "    \n",
    "    \n",
    "    \n",
    "    if lr<0:\n",
    "        num_epoches = epoch\n",
    "        break\n",
    "    #print('epoch=%02d,  lr=%f'%(epoch,lr))\n",
    "    #print(lr_scheduler.last_epoch)\n",
    "\n",
    "#plot\n",
    "fig = plt.figure(figsize = (20,10))\n",
    "plot_rates(fig, lrs, num_epoches, title=str(lr_scheduler))\n",
    "plt.show()\n"
   ]
  },
  {
   "cell_type": "code",
   "execution_count": 8,
   "metadata": {},
   "outputs": [],
   "source": [
    "import pandas as pd\n",
    "df = pd.read_csv('../data/train.csv')"
   ]
  },
  {
   "cell_type": "code",
   "execution_count": 9,
   "metadata": {},
   "outputs": [
    {
     "data": {
      "text/html": [
       "<div>\n",
       "<style scoped>\n",
       "    .dataframe tbody tr th:only-of-type {\n",
       "        vertical-align: middle;\n",
       "    }\n",
       "\n",
       "    .dataframe tbody tr th {\n",
       "        vertical-align: top;\n",
       "    }\n",
       "\n",
       "    .dataframe thead th {\n",
       "        text-align: right;\n",
       "    }\n",
       "</style>\n",
       "<table border=\"1\" class=\"dataframe\">\n",
       "  <thead>\n",
       "    <tr style=\"text-align: right;\">\n",
       "      <th></th>\n",
       "      <th>Unnamed: 0</th>\n",
       "      <th>id</th>\n",
       "      <th>rle_mask</th>\n",
       "      <th>class</th>\n",
       "    </tr>\n",
       "  </thead>\n",
       "  <tbody>\n",
       "    <tr>\n",
       "      <th>0</th>\n",
       "      <td>0</td>\n",
       "      <td>575d24d81d</td>\n",
       "      <td>NaN</td>\n",
       "      <td>1</td>\n",
       "    </tr>\n",
       "    <tr>\n",
       "      <th>1</th>\n",
       "      <td>1</td>\n",
       "      <td>a266a2a9df</td>\n",
       "      <td>5051 5151</td>\n",
       "      <td>0</td>\n",
       "    </tr>\n",
       "    <tr>\n",
       "      <th>2</th>\n",
       "      <td>2</td>\n",
       "      <td>75efad62c1</td>\n",
       "      <td>9 93 109 94 210 94 310 95 411 95 511 96 612 96...</td>\n",
       "      <td>0</td>\n",
       "    </tr>\n",
       "    <tr>\n",
       "      <th>3</th>\n",
       "      <td>3</td>\n",
       "      <td>34e51dba6a</td>\n",
       "      <td>48 54 149 54 251 53 353 52 455 51 557 50 659 4...</td>\n",
       "      <td>0</td>\n",
       "    </tr>\n",
       "    <tr>\n",
       "      <th>4</th>\n",
       "      <td>4</td>\n",
       "      <td>4875705fb0</td>\n",
       "      <td>1111 1 1212 1 1313 1 1414 1 1514 2 1615 2 1716...</td>\n",
       "      <td>0</td>\n",
       "    </tr>\n",
       "  </tbody>\n",
       "</table>\n",
       "</div>"
      ],
      "text/plain": [
       "   Unnamed: 0          id                                           rle_mask  \\\n",
       "0           0  575d24d81d                                                NaN   \n",
       "1           1  a266a2a9df                                          5051 5151   \n",
       "2           2  75efad62c1  9 93 109 94 210 94 310 95 411 95 511 96 612 96...   \n",
       "3           3  34e51dba6a  48 54 149 54 251 53 353 52 455 51 557 50 659 4...   \n",
       "4           4  4875705fb0  1111 1 1212 1 1313 1 1414 1 1514 2 1615 2 1716...   \n",
       "\n",
       "   class  \n",
       "0      1  \n",
       "1      0  \n",
       "2      0  \n",
       "3      0  \n",
       "4      0  "
      ]
     },
     "execution_count": 9,
     "metadata": {},
     "output_type": "execute_result"
    }
   ],
   "source": [
    "df.head()"
   ]
  },
  {
   "cell_type": "code",
   "execution_count": 5,
   "metadata": {},
   "outputs": [],
   "source": [
    "df['class'] = 0\n",
    "df.loc[df['rle_mask'].isnull(),\"class\"] = 1"
   ]
  },
  {
   "cell_type": "code",
   "execution_count": 12,
   "metadata": {},
   "outputs": [
    {
     "data": {
      "text/html": [
       "<div>\n",
       "<style scoped>\n",
       "    .dataframe tbody tr th:only-of-type {\n",
       "        vertical-align: middle;\n",
       "    }\n",
       "\n",
       "    .dataframe tbody tr th {\n",
       "        vertical-align: top;\n",
       "    }\n",
       "\n",
       "    .dataframe thead th {\n",
       "        text-align: right;\n",
       "    }\n",
       "</style>\n",
       "<table border=\"1\" class=\"dataframe\">\n",
       "  <thead>\n",
       "    <tr style=\"text-align: right;\">\n",
       "      <th></th>\n",
       "      <th>Unnamed: 0</th>\n",
       "      <th>id</th>\n",
       "      <th>rle_mask</th>\n",
       "      <th>class</th>\n",
       "      <th>filename</th>\n",
       "    </tr>\n",
       "  </thead>\n",
       "  <tbody>\n",
       "    <tr>\n",
       "      <th>0</th>\n",
       "      <td>0</td>\n",
       "      <td>575d24d81d</td>\n",
       "      <td>NaN</td>\n",
       "      <td>1</td>\n",
       "      <td>575d24d81d.png</td>\n",
       "    </tr>\n",
       "    <tr>\n",
       "      <th>1</th>\n",
       "      <td>1</td>\n",
       "      <td>a266a2a9df</td>\n",
       "      <td>5051 5151</td>\n",
       "      <td>0</td>\n",
       "      <td>a266a2a9df.png</td>\n",
       "    </tr>\n",
       "    <tr>\n",
       "      <th>2</th>\n",
       "      <td>2</td>\n",
       "      <td>75efad62c1</td>\n",
       "      <td>9 93 109 94 210 94 310 95 411 95 511 96 612 96...</td>\n",
       "      <td>0</td>\n",
       "      <td>75efad62c1.png</td>\n",
       "    </tr>\n",
       "    <tr>\n",
       "      <th>3</th>\n",
       "      <td>3</td>\n",
       "      <td>34e51dba6a</td>\n",
       "      <td>48 54 149 54 251 53 353 52 455 51 557 50 659 4...</td>\n",
       "      <td>0</td>\n",
       "      <td>34e51dba6a.png</td>\n",
       "    </tr>\n",
       "    <tr>\n",
       "      <th>4</th>\n",
       "      <td>4</td>\n",
       "      <td>4875705fb0</td>\n",
       "      <td>1111 1 1212 1 1313 1 1414 1 1514 2 1615 2 1716...</td>\n",
       "      <td>0</td>\n",
       "      <td>4875705fb0.png</td>\n",
       "    </tr>\n",
       "  </tbody>\n",
       "</table>\n",
       "</div>"
      ],
      "text/plain": [
       "   Unnamed: 0          id                                           rle_mask  \\\n",
       "0           0  575d24d81d                                                NaN   \n",
       "1           1  a266a2a9df                                          5051 5151   \n",
       "2           2  75efad62c1  9 93 109 94 210 94 310 95 411 95 511 96 612 96...   \n",
       "3           3  34e51dba6a  48 54 149 54 251 53 353 52 455 51 557 50 659 4...   \n",
       "4           4  4875705fb0  1111 1 1212 1 1313 1 1414 1 1514 2 1615 2 1716...   \n",
       "\n",
       "   class        filename  \n",
       "0      1  575d24d81d.png  \n",
       "1      0  a266a2a9df.png  \n",
       "2      0  75efad62c1.png  \n",
       "3      0  34e51dba6a.png  \n",
       "4      0  4875705fb0.png  "
      ]
     },
     "execution_count": 12,
     "metadata": {},
     "output_type": "execute_result"
    }
   ],
   "source": [
    "df.head()"
   ]
  },
  {
   "cell_type": "code",
   "execution_count": 11,
   "metadata": {},
   "outputs": [],
   "source": [
    "df['filename'] = df['id']+'.png'"
   ]
  },
  {
   "cell_type": "code",
   "execution_count": 13,
   "metadata": {},
   "outputs": [],
   "source": [
    "df.to_csv('../data/train.csv')"
   ]
  },
  {
   "cell_type": "code",
   "execution_count": 14,
   "metadata": {},
   "outputs": [],
   "source": [
    "df = pd.read_csv('../data/submission.csv')"
   ]
  },
  {
   "cell_type": "code",
   "execution_count": 17,
   "metadata": {},
   "outputs": [],
   "source": [
    "df['filename'] = df['id']+'.png'"
   ]
  },
  {
   "cell_type": "code",
   "execution_count": 18,
   "metadata": {},
   "outputs": [],
   "source": [
    "df.to_csv('../data/submission.csv')\n"
   ]
  }
 ],
 "metadata": {
  "kernelspec": {
   "display_name": "Python 3",
   "language": "python",
   "name": "python3"
  },
  "language_info": {
   "codemirror_mode": {
    "name": "ipython",
    "version": 3
   },
   "file_extension": ".py",
   "mimetype": "text/x-python",
   "name": "python",
   "nbconvert_exporter": "python",
   "pygments_lexer": "ipython3",
   "version": "3.6.4"
  }
 },
 "nbformat": 4,
 "nbformat_minor": 1
}
