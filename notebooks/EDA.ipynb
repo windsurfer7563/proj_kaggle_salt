{
 "cells": [
  {
   "cell_type": "code",
   "execution_count": null,
   "metadata": {},
   "outputs": [],
   "source": [
    "%load_ext autoreload\n",
    "%autoreload 2"
   ]
  },
  {
   "cell_type": "code",
   "execution_count": 97,
   "metadata": {
    "collapsed": true
   },
   "outputs": [],
   "source": [
    "import torch\n",
    "import numpy as np\n",
    "import cv2\n",
    "import matplotlib.pyplot as plt\n",
    "from torch.utils.data import DataLoader\n",
    "from models.prepare_train_val import get_split\n",
    "from models.transforms import (DualCompose,\n",
    "                        ImageOnly,\n",
    "                        Normalize,\n",
    "                        HorizontalFlip,\n",
    "                        VerticalFlip,\n",
    "                        Rotate,\n",
    "                        RandomBrightness,\n",
    "                        RandomContrast,\n",
    "                        AddMargin)\n",
    "\n",
    "\n",
    "from models.dataset import SaltDataset\n",
    "\n",
    "\n",
    "def mask_overlay(image, mask, color=(0, 1, 0)):\n",
    "    \"\"\"\n",
    "    Helper function to visualize mask on the top of the image\n",
    "    \"\"\"\n",
    "    mask = np.dstack((mask, mask, mask)) * np.array(color)\n",
    "    weighted_sum = cv2.addWeighted(mask, 0.5, image, 0.5, 0.)\n",
    "    img = image.copy()\n",
    "    ind = mask[:, :, 1] > 0\n",
    "    img[ind] = weighted_sum[ind]    \n",
    "    return img\n",
    "\n",
    "def imshow(img, mask, title=None):\n",
    "    \"\"\"Imshow for Tensor.\"\"\"\n",
    "    img = img.numpy().transpose((1, 2, 0))\n",
    "    mean = np.array([0.485, 0.456, 0.406])\n",
    "    std = np.array([0.229, 0.224, 0.225])\n",
    "    img = std * img + mean\n",
    "    img = np.clip(img, 0, 1)\n",
    "    mask = mask.numpy().transpose((1, 2, 0))\n",
    "    mask = np.clip(mask, 0, 1)\n",
    "    fig = plt.figure(figsize = (12,6))\n",
    "    fig.add_subplot(1,2,1)\n",
    "    plt.imshow(mask_overlay(img, mask))\n",
    "    fig.add_subplot(1,2,2)\n",
    "    plt.imshow(img)\n",
    "    if title is not None:\n",
    "        plt.title(title)\n",
    "    plt.pause(0.001) \n"
   ]
  },
  {
   "cell_type": "code",
   "execution_count": 65,
   "metadata": {},
   "outputs": [],
   "source": [
    "train_ids, val_ids = get_split(0)"
   ]
  },
  {
   "cell_type": "code",
   "execution_count": 66,
   "metadata": {},
   "outputs": [],
   "source": [
    "train_transform = DualCompose([\n",
    "        AddMargin(128),\n",
    "        HorizontalFlip(),\n",
    "        VerticalFlip(),\n",
    "        Rotate(),\n",
    "        ImageOnly(RandomBrightness()),\n",
    "        ImageOnly(RandomContrast()),\n",
    "        ImageOnly(Normalize())\n",
    "    ])"
   ]
  },
  {
   "cell_type": "code",
   "execution_count": 101,
   "metadata": {},
   "outputs": [],
   "source": [
    " train_loader = DataLoader(\n",
    "        dataset=SaltDataset(train_ids, transform=train_transform),\n",
    "        shuffle=True,\n",
    "        num_workers=1,\n",
    "        batch_size=10,\n",
    "        pin_memory=torch.cuda.is_available())"
   ]
  },
  {
   "cell_type": "code",
   "execution_count": 115,
   "metadata": {},
   "outputs": [],
   "source": [
    "img1, mask1 = next(iter(train_loader))\n",
    "imshow(img1[0], mask1[0])"
   ]
  },
  {
   "cell_type": "code",
   "execution_count": 76,
   "metadata": {},
   "outputs": [
    {
     "data": {
      "text/plain": [
       "torch.Size([1, 101, 101])"
      ]
     },
     "execution_count": 76,
     "metadata": {},
     "output_type": "execute_result"
    }
   ],
   "source": [
    "mask1[0].shape"
   ]
  },
  {
   "cell_type": "code",
   "execution_count": 78,
   "metadata": {},
   "outputs": [
    {
     "data": {
      "text/plain": [
       "tensor(0)"
      ]
     },
     "execution_count": 78,
     "metadata": {},
     "output_type": "execute_result"
    }
   ],
   "source": [
    "(mask1[0]==1).sum()"
   ]
  },
  {
   "cell_type": "code",
   "execution_count": null,
   "metadata": {},
   "outputs": [],
   "source": []
  }
 ],
 "metadata": {
  "kernelspec": {
   "display_name": "Python 2",
   "language": "python",
   "name": "python2"
  },
  "language_info": {
   "codemirror_mode": {
    "name": "ipython",
    "version": 2
   },
   "file_extension": ".py",
   "mimetype": "text/x-python",
   "name": "python",
   "nbconvert_exporter": "python",
   "pygments_lexer": "ipython2",
   "version": "2.7.6"
  }
 },
 "nbformat": 4,
 "nbformat_minor": 0
}
