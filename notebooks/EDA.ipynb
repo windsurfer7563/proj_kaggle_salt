{
 "cells": [
  {
   "cell_type": "code",
   "execution_count": 1,
   "metadata": {},
   "outputs": [],
   "source": [
    "from skimage import io\n",
    "from skimage import img_as_float"
   ]
  },
  {
   "cell_type": "code",
   "execution_count": 2,
   "metadata": {},
   "outputs": [],
   "source": [
    "%load_ext autoreload\n",
    "%autoreload 2"
   ]
  },
  {
   "cell_type": "code",
   "execution_count": 3,
   "metadata": {},
   "outputs": [],
   "source": [
    "import os,sys,inspect\n",
    "currentdir = os.path.dirname(os.path.abspath(inspect.getfile(inspect.currentframe())))\n",
    "parentdir = os.path.dirname(currentdir)\n",
    "sys.path.insert(0,parentdir) "
   ]
  },
  {
   "cell_type": "code",
   "execution_count": 4,
   "metadata": {},
   "outputs": [],
   "source": [
    "import torch\n",
    "import numpy as np\n",
    "import cv2\n",
    "import matplotlib.pyplot as plt\n",
    "from torch.utils.data import DataLoader\n",
    "from models.prepare_train_val import get_split\n",
    "from models.transforms import (DualCompose,\n",
    "                        ImageOnly,\n",
    "                        Normalize,\n",
    "                        HorizontalFlip,\n",
    "                        VerticalFlip,\n",
    "                        Rotate,\n",
    "                        RandomBrightness,\n",
    "                        RandomContrast,\n",
    "                        AddMargin)\n",
    "\n",
    "from skimage.io import imread\n",
    "\n",
    "from models.dataset import SaltDataset\n",
    "\n",
    "from albumentations import (HorizontalFlip, VerticalFlip, Normalize,\n",
    "    ShiftScaleRotate, Blur, OpticalDistortion,  GridDistortion, HueSaturationValue, IAAAdditiveGaussianNoise, GaussNoise, MotionBlur,\n",
    "    MedianBlur, IAAPiecewiseAffine, IAASharpen, IAAEmboss, RandomContrast, RandomBrightness,\n",
    "    Flip, OneOf, Compose\n",
    ")\n",
    "\n",
    "\n",
    "def mask_overlay(image, mask, color=(0, 1, 0)):\n",
    "    \"\"\"\n",
    "    Helper function to visualize mask on the top of the image\n",
    "    \"\"\"\n",
    "    mask = np.dstack((mask, mask, mask)) * np.array(color)\n",
    "    weighted_sum = cv2.addWeighted(mask, 0.5, image, 0.5, 0.)\n",
    "    img = image.copy()\n",
    "    ind = mask[:, :, 1] > 0\n",
    "    img[ind] = weighted_sum[ind]    \n",
    "    return img\n",
    "\n",
    "def imshow(img, mask, title=None):\n",
    "    \"\"\"Imshow for Tensor.\"\"\"\n",
    "    img = img.numpy().transpose((1, 2, 0))\n",
    "    mean = np.array([0.485, 0.456, 0.406])\n",
    "    std = np.array([0.229, 0.224, 0.225])\n",
    "    img = std * img + mean\n",
    "    img = np.clip(img, 0, 1)\n",
    "    mask = mask.numpy().transpose((1, 2, 0))\n",
    "    mask = np.clip(mask, 0, 1)\n",
    "    fig = plt.figure(figsize = (12,6))\n",
    "    fig.add_subplot(1,2,1)\n",
    "    plt.imshow(mask_overlay(img, mask))\n",
    "    fig.add_subplot(1,2,2)\n",
    "    plt.imshow(img)\n",
    "    if title is not None:\n",
    "        plt.title(title)\n",
    "    plt.pause(0.001) \n"
   ]
  },
  {
   "cell_type": "code",
   "execution_count": 5,
   "metadata": {},
   "outputs": [],
   "source": [
    "import os\n",
    "os.chdir('../')"
   ]
  },
  {
   "cell_type": "code",
   "execution_count": 6,
   "metadata": {},
   "outputs": [],
   "source": [
    "train_ids, val_ids = get_split(0)"
   ]
  },
  {
   "cell_type": "code",
   "execution_count": 7,
   "metadata": {},
   "outputs": [],
   "source": [
    "\"\"\"\n",
    "train_transform = DualCompose([\n",
    "        AddMargin(128),\n",
    "        #HorizontalFlip(),\n",
    "        #VerticalFlip(),\n",
    "        #Rotate(),\n",
    "        #ImageOnly(RandomBrightness()),\n",
    "        #ImageOnly(RandomContrast()),\n",
    "        ImageOnly(Normalize())\n",
    "    ])\n",
    "\"\"\"\n",
    "def train_transform(p=1):\n",
    "        return Compose([\n",
    "            PadIfNeeded(min_height=args.train_crop_height, min_width=args.train_crop_width, p=1),\n",
    "            HorizontalFlip(p=0.5),\n",
    "            OneOf([\n",
    "                IAAAdditiveGaussianNoise(),\n",
    "                GaussNoise(),\n",
    "            ], p=0.2),\n",
    "            OneOf([\n",
    "                MotionBlur(p=0.2),\n",
    "                MedianBlur(blur_limit=3, p=0.1),\n",
    "                Blur(blur_limit=3, p=0.1),\n",
    "            ], p=0.2),\n",
    "            ShiftScaleRotate(shift_limit=0.0625, scale_limit=0.2, rotate_limit=0, p=0.2),\n",
    "            OneOf([\n",
    "                OpticalDistortion(p=0.3),\n",
    "                GridDistortion(p=0.1),\n",
    "                IAAPiecewiseAffine(p=0.3),\n",
    "            ], p=0.2),\n",
    "            OneOf([\n",
    "                #CLAHE(clip_limit=2),\n",
    "                IAASharpen(),\n",
    "                IAAEmboss(),\n",
    "                RandomContrast(),\n",
    "                RandomBrightness(),\n",
    "            ], p=0.3),\n",
    "            Normalize(p=1)\n",
    "        ], p=p)\n"
   ]
  },
  {
   "cell_type": "code",
   "execution_count": null,
   "metadata": {},
   "outputs": [],
   "source": [
    " train_loader = DataLoader(\n",
    "        dataset=SaltDataset(train_ids, transform=train_transform),\n",
    "        shuffle=True,\n",
    "        num_workers=1,\n",
    "        batch_size=10,\n",
    "        pin_memory=torch.cuda.is_available())"
   ]
  },
  {
   "cell_type": "code",
   "execution_count": null,
   "metadata": {},
   "outputs": [
    {
     "name": "stderr",
     "output_type": "stream",
     "text": [
      "C:\\Anaconda3\\lib\\site-packages\\torch\\cuda\\__init__.py:116: UserWarning: \n",
      "    Found GPU0 Quadro 2000D which is of cuda capability 2.1.\n",
      "    PyTorch no longer supports this GPU because it is too old.\n",
      "    \n",
      "  warnings.warn(old_gpu_warn % (d, name, major, capability[1]))\n"
     ]
    }
   ],
   "source": [
    "img1, mask1 = next(iter(train_loader))\n",
    "imshow(img1[0], mask1[0])"
   ]
  },
  {
   "cell_type": "code",
   "execution_count": null,
   "metadata": {},
   "outputs": [],
   "source": [
    "mask1[0].shape"
   ]
  },
  {
   "cell_type": "code",
   "execution_count": null,
   "metadata": {},
   "outputs": [],
   "source": [
    "(mask1[0]==1).sum()"
   ]
  },
  {
   "cell_type": "code",
   "execution_count": null,
   "metadata": {},
   "outputs": [],
   "source": [
    "pred_dir = 'data/predictions/AlbuNet/OOF/'\n",
    "train_dir = 'data/train/'\n",
    "def show_image(file_name):\n",
    "    global mask, mask_pred\n",
    "    img = imread(train_dir + \"images/\" + file_name)\n",
    "    mask = imread(train_dir + \"masks/\" + file_name)\n",
    "    mask_pred = img_as_float(imread(pred_dir + file_name))\n",
    "    fig = plt.figure(figsize = (18,6))\n",
    "    fig.add_subplot(1,4,1)\n",
    "    plt.imshow(img)\n",
    "    fig.add_subplot(1,4,2)\n",
    "    plt.imshow(mask)\n",
    "    fig.add_subplot(1,4,3)\n",
    "    plt.imshow(mask_pred)\n",
    "    fig.add_subplot(1,4,4)\n",
    "    plt.imshow((mask_pred>0.2))\n",
    "#show_image('6c793e5879.png')\n",
    "#show_image('6a1fe1a81e.png')\n",
    "show_image('fd1be18f7d.png')"
   ]
  },
  {
   "cell_type": "code",
   "execution_count": null,
   "metadata": {},
   "outputs": [],
   "source": [
    "mask.shape"
   ]
  },
  {
   "cell_type": "code",
   "execution_count": null,
   "metadata": {},
   "outputs": [],
   "source": [
    "(mask_pred>0).sum()"
   ]
  },
  {
   "cell_type": "code",
   "execution_count": null,
   "metadata": {},
   "outputs": [],
   "source": [
    "mask_pred.dtype"
   ]
  },
  {
   "cell_type": "code",
   "execution_count": null,
   "metadata": {},
   "outputs": [],
   "source": [
    "mask.max()"
   ]
  },
  {
   "cell_type": "code",
   "execution_count": null,
   "metadata": {},
   "outputs": [],
   "source": [
    "mask_pred.max()"
   ]
  },
  {
   "cell_type": "code",
   "execution_count": null,
   "metadata": {},
   "outputs": [],
   "source": [
    "pred_dir = '../data/predictions/test/'\n",
    "train_dir = '../data/test/'\n",
    "def show_image(file_name):\n",
    "    global mask, mask_pred\n",
    "    img = imread(train_dir + \"images/\" + file_name)\n",
    "    mask_pred = img_as_float(imread(pred_dir + file_name))\n",
    "    fig = plt.figure(figsize = (18,6))\n",
    "    fig.add_subplot(1,3,1)\n",
    "    plt.imshow(img)\n",
    "    fig.add_subplot(1,3,2)\n",
    "    plt.imshow(mask_pred)\n",
    "    fig.add_subplot(1,3,3)\n",
    "    plt.imshow((mask_pred>0.4))\n",
    "\n",
    "show_image('009d3365bc.png')\n",
    "show_image('00801127b0.png')\n",
    "#show_image('feaae39fc4.png')\n",
    "#show_image('fb56c30236.png')\n",
    "#show_image('f7c8709aad.png')"
   ]
  },
  {
   "cell_type": "code",
   "execution_count": null,
   "metadata": {},
   "outputs": [],
   "source": [
    "mask_pred"
   ]
  }
 ],
 "metadata": {
  "kernelspec": {
   "display_name": "Python 3",
   "language": "python",
   "name": "python3"
  },
  "language_info": {
   "codemirror_mode": {
    "name": "ipython",
    "version": 3
   },
   "file_extension": ".py",
   "mimetype": "text/x-python",
   "name": "python",
   "nbconvert_exporter": "python",
   "pygments_lexer": "ipython3",
   "version": "3.6.4"
  }
 },
 "nbformat": 4,
 "nbformat_minor": 1
}
